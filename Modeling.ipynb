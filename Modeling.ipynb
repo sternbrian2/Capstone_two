{
 "cells": [
  {
   "cell_type": "code",
   "execution_count": 1,
   "id": "cfeb69b7",
   "metadata": {},
   "outputs": [],
   "source": [
    "import numpy as np\n",
    "import pandas as pd\n",
    "import seaborn as sns\n",
    "import matplotlib.pyplot as plt\n",
    "import os\n",
    "\n",
    "import warnings\n",
    "warnings.filterwarnings('ignore')"
   ]
  },
  {
   "cell_type": "code",
   "execution_count": 2,
   "id": "4a3a3b3c",
   "metadata": {},
   "outputs": [],
   "source": [
    "df = pd.read_csv('Final_Supply_Chain.csv')"
   ]
  },
  {
   "cell_type": "code",
   "execution_count": 3,
   "id": "0bccb0a6",
   "metadata": {},
   "outputs": [],
   "source": [
    "features=df[['Type', 'Benefit per order', 'Sales per customer', 'Delivery Status', 'Late_delivery_risk', \n",
    "                    'Category Name', 'Customer City', 'Customer Country', 'Customer Id', 'Customer Segment', \n",
    "                    'Customer State', 'Customer Zipcode', 'Department Name', 'Latitude', 'Longitude', 'Market', \n",
    "                    'Order City', 'Order Country', 'order date (DateOrders)','shipping date (DateOrders)', 'Order Id', 'Order Item Cardprod Id',\n",
    "                    'Order Item Discount', 'Order Item Discount Rate', 'Order Item Product Price', 'Order Item Quantity',\n",
    "                    'Order Region', 'Order State', 'Product Status', 'Shipping Mode']]\n",
    "features = features.drop(columns = ['Late_delivery_risk'])"
   ]
  },
  {
   "cell_type": "code",
   "execution_count": 4,
   "id": "bed062d2",
   "metadata": {},
   "outputs": [],
   "source": [
    "from sklearn.preprocessing import LabelEncoder\n",
    "le=LabelEncoder()\n",
    "def Labelencoder_feature(x):\n",
    "    le=LabelEncoder()\n",
    "    x=le.fit_transform(x)\n",
    "    return x"
   ]
  },
  {
   "cell_type": "code",
   "execution_count": 5,
   "id": "6b58cbd6",
   "metadata": {},
   "outputs": [],
   "source": [
    "features['shipping date (DateOrder)'] = pd.to_datetime(df['shipping date (DateOrders)'])\n",
    "features['shipping_day_of_week'] = pd.to_datetime(df['shipping date (DateOrders)']).dt.dayofweek\n",
    "features['shipping_date'] = pd.to_datetime(df['shipping date (DateOrders)']).dt.day\n",
    "features['shipping_month'] = pd.to_datetime(df['shipping date (DateOrders)']).dt.month"
   ]
  },
  {
   "cell_type": "code",
   "execution_count": null,
   "id": "a8bf414b",
   "metadata": {},
   "outputs": [],
   "source": []
  },
  {
   "cell_type": "code",
   "execution_count": 9,
   "id": "c8c87b60",
   "metadata": {},
   "outputs": [],
   "source": [
    "target = df['Late_delivery_risk']\n",
    "features=features.apply(Labelencoder_feature)\n",
    "features.head()\n",
    "\n",
    "final_features=features[['Type', 'Shipping Mode', 'Order Region',\n",
    "       'Customer City', 'shipping_day_of_week','shipping_date','shipping_month']]"
   ]
  },
  {
   "cell_type": "code",
   "execution_count": 7,
   "id": "2d7717c9",
   "metadata": {},
   "outputs": [],
   "source": [
    "from sklearn.pipeline import make_pipeline\n",
    "from sklearn.pipeline import Pipeline\n",
    "from sklearn.preprocessing import StandardScaler\n",
    "\n",
    "#scaler = StandardScaler()\n",
    "#scaled_df = scaler.fit_transform(final_features)\n",
    "#scaled_df = pd.DataFrame(scaled_df) \n"
   ]
  },
  {
   "cell_type": "code",
   "execution_count": 10,
   "id": "25f2edc7",
   "metadata": {},
   "outputs": [],
   "source": [
    "#Import ML models:\n",
    "\n",
    "from sklearn.model_selection import train_test_split\n",
    "from sklearn.model_selection import cross_val_score\n",
    "from sklearn.preprocessing import MinMaxScaler\n",
    "from sklearn.linear_model import LogisticRegression\n",
    "from sklearn.model_selection import GridSearchCV\n",
    "from sklearn.metrics import accuracy_score\n",
    "from sklearn.model_selection import validation_curve\n",
    "from sklearn.metrics import confusion_matrix\n",
    "\n",
    "# Splitting the dataset into training and test set:\n",
    "\n",
    "X_train, X_test, y_train, y_test = train_test_split(final_features, target, test_size=0.2, random_state=42)\n",
    "\n",
    "# Feature Scaling:\n",
    "\n",
    "scaler_x = MinMaxScaler((-1,1))\n",
    "X_train = scaler_x.fit_transform(X_train)\n",
    "X_test = scaler_x.transform(X_test)"
   ]
  },
  {
   "cell_type": "code",
   "execution_count": 11,
   "id": "b5fe20de",
   "metadata": {},
   "outputs": [
    {
     "data": {
      "text/html": [
       "<div>\n",
       "<style scoped>\n",
       "    .dataframe tbody tr th:only-of-type {\n",
       "        vertical-align: middle;\n",
       "    }\n",
       "\n",
       "    .dataframe tbody tr th {\n",
       "        vertical-align: top;\n",
       "    }\n",
       "\n",
       "    .dataframe thead th {\n",
       "        text-align: right;\n",
       "    }\n",
       "</style>\n",
       "<table border=\"1\" class=\"dataframe\">\n",
       "  <thead>\n",
       "    <tr style=\"text-align: right;\">\n",
       "      <th></th>\n",
       "      <th>C_parameter</th>\n",
       "      <th>Accuracy</th>\n",
       "    </tr>\n",
       "  </thead>\n",
       "  <tbody>\n",
       "    <tr>\n",
       "      <th>0</th>\n",
       "      <td>0.001</td>\n",
       "      <td>0.687486</td>\n",
       "    </tr>\n",
       "    <tr>\n",
       "      <th>1</th>\n",
       "      <td>0.010</td>\n",
       "      <td>0.687486</td>\n",
       "    </tr>\n",
       "    <tr>\n",
       "      <th>2</th>\n",
       "      <td>0.100</td>\n",
       "      <td>0.687486</td>\n",
       "    </tr>\n",
       "    <tr>\n",
       "      <th>3</th>\n",
       "      <td>1.000</td>\n",
       "      <td>0.687486</td>\n",
       "    </tr>\n",
       "    <tr>\n",
       "      <th>4</th>\n",
       "      <td>10.000</td>\n",
       "      <td>0.687486</td>\n",
       "    </tr>\n",
       "    <tr>\n",
       "      <th>5</th>\n",
       "      <td>100.000</td>\n",
       "      <td>0.687486</td>\n",
       "    </tr>\n",
       "  </tbody>\n",
       "</table>\n",
       "</div>"
      ],
      "text/plain": [
       "   C_parameter  Accuracy\n",
       "0        0.001  0.687486\n",
       "1        0.010  0.687486\n",
       "2        0.100  0.687486\n",
       "3        1.000  0.687486\n",
       "4       10.000  0.687486\n",
       "5      100.000  0.687486"
      ]
     },
     "execution_count": 11,
     "metadata": {},
     "output_type": "execute_result"
    }
   ],
   "source": [
    "#Linear Regression\n",
    "\n",
    "C_param_range = [0.001,0.01,0.1,1,10,100]\n",
    "\n",
    "table = pd.DataFrame(columns = ['C_parameter','Accuracy'])\n",
    "table['C_parameter'] = C_param_range\n",
    "\n",
    "j = 0\n",
    "for i in C_param_range:\n",
    "    \n",
    "    # Apply logistic regression model to training data\n",
    "    Logreg = LogisticRegression(penalty = 'l2', C = i,random_state = 42)\n",
    "    Logreg.fit(X_train,y_train)\n",
    "    \n",
    "    # Predict using model\n",
    "    y_pred_lr = Logreg.predict(X_test)\n",
    "    \n",
    "    # Saving accuracy score in table\n",
    "    table.iloc[j,1] = accuracy_score(y_test,y_pred_lr)\n",
    "    j += 1\n",
    "    \n",
    "table   "
   ]
  },
  {
   "cell_type": "code",
   "execution_count": 12,
   "id": "454820f7",
   "metadata": {},
   "outputs": [
    {
     "name": "stdout",
     "output_type": "stream",
     "text": [
      "[[13305  3002]\n",
      " [ 8281 11516]]\n",
      "0.6874861511189896\n"
     ]
    }
   ],
   "source": [
    "# SVM \n",
    "\n",
    "from sklearn.svm import SVC\n",
    "\n",
    "svm = SVC(kernel='linear')\n",
    "svm.fit(X_train, y_train)\n",
    "\n",
    "# Predict using model:\n",
    "\n",
    "y_predict_svm=svm.predict(X_test)\n",
    "\n",
    "#Confusion matrix:\n",
    "\n",
    "cnf_matrix = confusion_matrix(y_test, y_predict_svm)\n",
    "print(cnf_matrix)\n",
    "\n",
    "Accuracy_svm=svm.score(X_test,y_test)\n",
    "print(Accuracy_svm)"
   ]
  },
  {
   "cell_type": "code",
   "execution_count": 13,
   "id": "0b300310",
   "metadata": {},
   "outputs": [
    {
     "name": "stdout",
     "output_type": "stream",
     "text": [
      "[0.71379047 0.71752096 0.71279906 0.71066181 0.72016942]\n",
      "Mean cross validation test score: 0.7149883439853403\n",
      "Mean cross validation train score: 0.7185466666233005\n",
      "Standard deviation in cv scores: 0.0034118736470449204\n"
     ]
    }
   ],
   "source": [
    "cv_scores_test= cross_val_score(svm,X_test,y_test,cv=5,scoring='roc_auc')\n",
    "cv_scores_train= cross_val_score(svm,X_train,y_train,cv=5,scoring='roc_auc')\n",
    "print(cv_scores_test)\n",
    "cv_scores_svm_test= cv_scores_test.mean()\n",
    "cv_scores_svm_train= cv_scores_train.mean()\n",
    "cv_scores_std_svm= cv_scores_test.std()\n",
    "print ('Mean cross validation test score: ' +str(cv_scores_svm_test))\n",
    "print ('Mean cross validation train score: ' +str(cv_scores_svm_train))\n",
    "print ('Standard deviation in cv scores: ' +str(cv_scores_std_svm))"
   ]
  },
  {
   "cell_type": "code",
   "execution_count": 14,
   "id": "14d1a354",
   "metadata": {},
   "outputs": [
    {
     "name": "stdout",
     "output_type": "stream",
     "text": [
      "[[14861  1446]\n",
      " [ 1707 18090]]\n",
      "0.912668956348327\n"
     ]
    }
   ],
   "source": [
    "from sklearn.ensemble import RandomForestClassifier\n",
    "\n",
    "\n",
    "rf = RandomForestClassifier(bootstrap=True,n_estimators=100,criterion='entropy')\n",
    "rf.fit(X_train, y_train)\n",
    "\n",
    "\n",
    "y_predict_rf = rf.predict(X_test)\n",
    "\n",
    "\n",
    "cnf_matrix = confusion_matrix(y_test, y_predict_rf)\n",
    "print(cnf_matrix)\n",
    "Accuracy_rf=rf.score(X_test,y_test)\n",
    "print(Accuracy_rf)"
   ]
  },
  {
   "cell_type": "code",
   "execution_count": 15,
   "id": "67dbb944",
   "metadata": {},
   "outputs": [
    {
     "name": "stdout",
     "output_type": "stream",
     "text": [
      "[0.84441041 0.8528026  0.8445045  0.84102145 0.85166378]\n",
      "Mean cross validation test score: 0.8468805469360994\n",
      "Mean cross validation train score: 0.9638007394061532\n",
      "Standard deviation in cv scores: 0.004561274703854328\n"
     ]
    }
   ],
   "source": [
    "cv_scores_test= cross_val_score(rf,X_test,y_test,cv=5,scoring='roc_auc')\n",
    "cv_scores_train= cross_val_score(rf,X_train,y_train,cv=5,scoring='roc_auc')\n",
    "\n",
    "print(cv_scores_test)\n",
    "\n",
    "cv_scores_rf_test= cv_scores_test.mean()\n",
    "cv_scores_rf_train= cv_scores_train.mean()\n",
    "cv_scores_std_rf= cv_scores_test.std()\n",
    "print ('Mean cross validation test score: ' +str(cv_scores_rf_test))\n",
    "print ('Mean cross validation train score: ' +str(cv_scores_rf_train))\n",
    "print ('Standard deviation in cv scores: ' +str(cv_scores_std_rf))"
   ]
  },
  {
   "cell_type": "code",
   "execution_count": 16,
   "id": "7455b391",
   "metadata": {},
   "outputs": [
    {
     "name": "stdout",
     "output_type": "stream",
     "text": [
      "[[14165  2142]\n",
      " [ 8397 11400]]\n",
      "0.7080932860624861\n"
     ]
    }
   ],
   "source": [
    "from sklearn.ensemble import ExtraTreesClassifier, GradientBoostingClassifier\n",
    "gbc = GradientBoostingClassifier(subsample=0.8, learning_rate=0.05 , n_estimators=100, random_state=5, max_depth=9, max_leaf_nodes=100)\n",
    "gbc.fit(X_train, y_train)\n",
    "\n",
    "#Predict using the model:\n",
    "\n",
    "y_predict_gbc = gbc.predict(X_test)\n",
    "\n",
    "#Confusion matrix:\n",
    "\n",
    "cnf_matrix = confusion_matrix(y_test, y_predict_gbc)\n",
    "print(cnf_matrix)\n",
    "Accuracy_gbc=gbc.score(X_test,y_test)\n",
    "print(Accuracy_gbc)"
   ]
  },
  {
   "cell_type": "code",
   "execution_count": 17,
   "id": "2d232a99",
   "metadata": {},
   "outputs": [
    {
     "name": "stdout",
     "output_type": "stream",
     "text": [
      "[0.7729657  0.78315983 0.77888819 0.76682563 0.78547635]\n",
      "Mean cross validation test score: 0.8468805469360994\n",
      "Mean cross validation train score: 0.9638007394061532\n",
      "Standard deviation in cv scores: 0.004561274703854328\n"
     ]
    }
   ],
   "source": [
    "cv_scores_test= cross_val_score(gbc,X_test,y_test,cv=5,scoring='roc_auc')\n",
    "cv_scores_train= cross_val_score(gbc,X_train,y_train,cv=5,scoring='roc_auc')\n",
    "\n",
    "print(cv_scores_test)\n",
    "\n",
    "cv_scores_gbc_test= cv_scores_test.mean()\n",
    "cv_scores_gbc_train= cv_scores_train.mean()\n",
    "cv_scores_std_gbc= cv_scores_test.std()\n",
    "print ('Mean cross validation test score: ' +str(cv_scores_rf_test))\n",
    "print ('Mean cross validation train score: ' +str(cv_scores_rf_train))\n",
    "print ('Standard deviation in cv scores: ' +str(cv_scores_std_rf))"
   ]
  },
  {
   "cell_type": "code",
   "execution_count": 18,
   "id": "ca30bb45",
   "metadata": {},
   "outputs": [
    {
     "name": "stdout",
     "output_type": "stream",
     "text": [
      "           Algorithm  Model accuracy score\n",
      "0                SVM              0.687486\n",
      "1      Random Forest              0.912669\n",
      "2  Gradient Boosting              0.708093\n",
      "\n",
      "\n",
      "           Algorithm  ROC-AUC train score  ROC-AUC test score\n",
      "0                SVM             0.718547            0.714988\n",
      "1      Random Forest             0.963801            0.846881\n",
      "2  Gradient Boosting             0.777463            0.777463\n"
     ]
    }
   ],
   "source": [
    "m_Labels = ['SVM','Random Forest', 'Gradient Boosting']\n",
    "scores_test = [cv_scores_svm_test, cv_scores_rf_test, cv_scores_gbc_test]\n",
    "scores_train = [cv_scores_svm_train, cv_scores_rf_train, cv_scores_gbc_test]\n",
    "accuracies = [Accuracy_svm, Accuracy_rf, Accuracy_gbc]\n",
    "\n",
    "score_tab_acc = pd.DataFrame(list(zip(m_Labels, accuracies)), \n",
    "               columns =['Algorithm', 'Model accuracy score']) \n",
    "\n",
    "score_tab = pd.DataFrame(list(zip(m_Labels, scores_train, scores_test)), \n",
    "               columns =['Algorithm', 'ROC-AUC train score', 'ROC-AUC test score' ]) \n",
    "\n",
    "print(score_tab_acc)\n",
    "print(\"\\n\")\n",
    "print(score_tab)"
   ]
  },
  {
   "cell_type": "code",
   "execution_count": 17,
   "id": "4e302e60",
   "metadata": {},
   "outputs": [
    {
     "name": "stdout",
     "output_type": "stream",
     "text": [
      "RandomForestClassifier(criterion='entropy', n_estimators=700, n_jobs=-1,\n",
      "                       random_state=1)\n",
      "0.8848596112119201\n"
     ]
    }
   ],
   "source": [
    "from sklearn.model_selection import GridSearchCV\n",
    "\n",
    "rf = RandomForestClassifier(max_features='auto',random_state=1, n_jobs=-1)\n",
    "\n",
    "param_grid = { \"criterion\" : [\"gini\", \"entropy\"], \"min_samples_leaf\" : [1, 5, 10], \"min_samples_split\" : [2, 4, 10,12,16], \"n_estimators\": [50, 100,400,700,1000]}\n",
    "\n",
    "gs = GridSearchCV(estimator=rf, param_grid=param_grid, scoring='accuracy', cv=3, n_jobs=-1)\n",
    "\n",
    "gs = gs.fit(X_train, y_train)\n",
    "\n",
    "print(gs.best_estimator_) \n",
    "print(gs.best_score_)"
   ]
  },
  {
   "cell_type": "code",
   "execution_count": 20,
   "id": "ff6261eb",
   "metadata": {},
   "outputs": [
    {
     "name": "stdout",
     "output_type": "stream",
     "text": [
      "Fitting 3 folds for each of 72 candidates, totalling 216 fits\n",
      "GradientBoostingClassifier(max_depth=8, max_features=0.3, min_samples_leaf=100,\n",
      "                           n_estimators=300)\n",
      "0.7336010952983377\n"
     ]
    }
   ],
   "source": [
    "gbc_best = GradientBoostingClassifier()\n",
    "gb_param = {\n",
    "        'loss' : [\"deviance\"],\n",
    "        'n_estimators' : [100,200,300],\n",
    "        'learning_rate': [0.1, 0.05, 0.01],\n",
    "        'max_depth': [4, 8],\n",
    "        'min_samples_leaf': [100,150],\n",
    "        'max_features': [0.3, 0.1] \n",
    "        }\n",
    "\n",
    "gs_gbc = GridSearchCV(gbc_best, param_grid = gb_param, cv=3, scoring=\"accuracy\", n_jobs= -1, verbose = 1)\n",
    "gs_gbc.fit(X_train,y_train)\n",
    "print(gs_gbc.best_estimator_)\n",
    "print(gs_gbc.best_score_)"
   ]
  },
  {
   "cell_type": "code",
   "execution_count": 19,
   "id": "d4229191",
   "metadata": {},
   "outputs": [
    {
     "name": "stdout",
     "output_type": "stream",
     "text": [
      "[[13642  2665]\n",
      " [ 6689 13108]]\n",
      "0.7409151340571681\n"
     ]
    }
   ],
   "source": [
    "gbc = GradientBoostingClassifier(max_depth=8, max_features=0.3, min_samples_leaf=100,\n",
    "                           n_estimators=300)\n",
    "gbc.fit(X_train, y_train)\n",
    "\n",
    "#Predict using the model:\n",
    "\n",
    "y_predict_gbc = gbc.predict(X_test)\n",
    "\n",
    "#Confusion matrix:\n",
    "\n",
    "cnf_matrix = confusion_matrix(y_test, y_predict_gbc)\n",
    "print(cnf_matrix)\n",
    "Accuracy_gbc=gbc.score(X_test,y_test)\n",
    "print(Accuracy_gbc)"
   ]
  },
  {
   "cell_type": "code",
   "execution_count": 20,
   "id": "469cb59d",
   "metadata": {},
   "outputs": [
    {
     "name": "stdout",
     "output_type": "stream",
     "text": [
      "0.9135552847329935\n",
      "0.8489443048243747\n"
     ]
    }
   ],
   "source": [
    "rf = RandomForestClassifier(criterion = 'entropy',n_jobs = -1, n_estimators = 700, random_state = 1)\n",
    "rf.fit(X_train, y_train)\n",
    "y_predictions_rf = rf.predict(X_test)\n",
    "acc = accuracy_score(y_test, y_predictions_rf)\n",
    "cv = cross_val_score(rf, X_test, y_test,scoring='roc_auc').mean()\n",
    "print(acc)\n",
    "print(cv)"
   ]
  },
  {
   "cell_type": "code",
   "execution_count": 22,
   "id": "7a9a252e",
   "metadata": {},
   "outputs": [
    {
     "name": "stdout",
     "output_type": "stream",
     "text": [
      "[0.84584561 0.85385091 0.84859664 0.84343239 0.85299647]\n",
      "Mean cross validation test score: 0.8489444054966869\n",
      "Mean cross validation train score: 0.9644586707358147\n",
      "Standard deviation in cv scores: 0.004014943511181742\n"
     ]
    }
   ],
   "source": [
    "cv_scores_test= cross_val_score(rf,X_test,y_test,cv=5,scoring='roc_auc')\n",
    "cv_scores_train= cross_val_score(rf,X_train,y_train,cv=5,scoring='roc_auc')\n",
    "\n",
    "print(cv_scores_test)\n",
    "\n",
    "cv_scores_rf_test= cv_scores_test.mean()\n",
    "cv_scores_rf_train= cv_scores_train.mean()\n",
    "cv_scores_std_rf= cv_scores_test.std()\n",
    "print ('Mean cross validation test score: ' +str(cv_scores_rf_test))\n",
    "print ('Mean cross validation train score: ' +str(cv_scores_rf_train))\n",
    "print ('Standard deviation in cv scores: ' +str(cv_scores_std_rf))"
   ]
  },
  {
   "cell_type": "code",
   "execution_count": 23,
   "id": "da5742b3",
   "metadata": {},
   "outputs": [
    {
     "name": "stdout",
     "output_type": "stream",
     "text": [
      "[0.76703357 0.77708618 0.77610948 0.76206407 0.7735482 ]\n",
      "Mean cross validation test score: 0.8489444054966869\n",
      "Mean cross validation train score: 0.9644586707358147\n",
      "Standard deviation in cv scores: 0.004014943511181742\n"
     ]
    }
   ],
   "source": [
    "cv_scores_test= cross_val_score(gbc,X_test,y_test,cv=5,scoring='roc_auc')\n",
    "cv_scores_train= cross_val_score(gbc,X_train,y_train,cv=5,scoring='roc_auc')\n",
    "\n",
    "print(cv_scores_test)\n",
    "\n",
    "cv_scores_gbc_test= cv_scores_test.mean()\n",
    "cv_scores_gbc_train= cv_scores_train.mean()\n",
    "cv_scores_std_gbc= cv_scores_test.std()\n",
    "print ('Mean cross validation test score: ' +str(cv_scores_rf_test))\n",
    "print ('Mean cross validation train score: ' +str(cv_scores_rf_train))\n",
    "print ('Standard deviation in cv scores: ' +str(cv_scores_std_rf))"
   ]
  },
  {
   "cell_type": "code",
   "execution_count": 24,
   "id": "578900a4",
   "metadata": {},
   "outputs": [
    {
     "name": "stdout",
     "output_type": "stream",
     "text": [
      "           Algorithm  Model accuracy score\n",
      "0                SVM              0.687486\n",
      "1      Random Forest              0.912669\n",
      "2  Gradient Boosting              0.740915\n",
      "\n",
      "\n",
      "           Algorithm  ROC-AUC train score  ROC-AUC test score\n",
      "0                SVM             0.718547            0.714988\n",
      "1      Random Forest             0.964459            0.848944\n",
      "2  Gradient Boosting             0.771168            0.771168\n"
     ]
    }
   ],
   "source": [
    "m_Labels = ['SVM','Random Forest', 'Gradient Boosting']\n",
    "scores_test = [cv_scores_svm_test, cv_scores_rf_test, cv_scores_gbc_test]\n",
    "scores_train = [cv_scores_svm_train, cv_scores_rf_train, cv_scores_gbc_test]\n",
    "accuracies = [Accuracy_svm, Accuracy_rf, Accuracy_gbc]\n",
    "\n",
    "score_tab_acc = pd.DataFrame(list(zip(m_Labels, accuracies)), \n",
    "               columns =['Algorithm', 'Model accuracy score']) \n",
    "\n",
    "score_tab = pd.DataFrame(list(zip(m_Labels, scores_train, scores_test)), \n",
    "               columns =['Algorithm', 'ROC-AUC train score', 'ROC-AUC test score' ]) \n",
    "\n",
    "print(score_tab_acc)\n",
    "print(\"\\n\")\n",
    "print(score_tab)"
   ]
  },
  {
   "cell_type": "code",
   "execution_count": 29,
   "id": "5a255525",
   "metadata": {},
   "outputs": [],
   "source": [
    "target = pd.Series(y_predictions_rf, name = 'Delay_status')\n",
    "results = pd.DataFrame(list(zip(target, df['Customer Id'])))\n",
    "order_id = df['Order Id']\n",
    "\n",
    "output = pd.DataFrame(list(zip(order_id, target)), \n",
    "               columns =['Order_Id', 'Delay_Status']) \n",
    "\n",
    "\n",
    "\n",
    "\n",
    "output.to_csv('final_result_rf.csv', index=False, header=True)"
   ]
  },
  {
   "cell_type": "code",
   "execution_count": 30,
   "id": "d78adc2d",
   "metadata": {},
   "outputs": [
    {
     "name": "stdout",
     "output_type": "stream",
     "text": [
      "               Features  Importance scores\n",
      "0                  Type           0.042530\n",
      "1         Shipping Mode           0.075476\n",
      "2          Order Region           0.092842\n",
      "3         Customer City           0.117717\n",
      "4  shipping_day_of_week           0.178021\n",
      "5         shipping_date           0.199907\n",
      "6        shipping_month           0.293507\n"
     ]
    }
   ],
   "source": [
    "\n",
    "importances = list(rf.feature_importances_)\n",
    "imp=np.sort(importances)\n",
    "table=pd.DataFrame(list(zip(final_features,imp)),columns =['Features', 'Importance scores']) \n",
    "print(table)"
   ]
  },
  {
   "cell_type": "code",
   "execution_count": 31,
   "id": "5bfe4f87",
   "metadata": {},
   "outputs": [
    {
     "name": "stdout",
     "output_type": "stream",
     "text": [
      "ROC-AUC Score: 0.974918260226006\n"
     ]
    }
   ],
   "source": [
    "from sklearn.metrics import auc, roc_curve, roc_auc_score\n",
    "y_scores_rf = rf.predict_proba(X_test)\n",
    "y_scores_rf = y_scores_rf[:,1]\n",
    "auroc = roc_auc_score(y_test, y_scores_rf)\n",
    "print(\"ROC-AUC Score:\", auroc)"
   ]
  },
  {
   "cell_type": "code",
   "execution_count": 32,
   "id": "079bf4b6",
   "metadata": {},
   "outputs": [
    {
     "name": "stdout",
     "output_type": "stream",
     "text": [
      "0.920619579316835\n",
      "0.7370255833567614\n",
      "0.6711933556753606\n"
     ]
    }
   ],
   "source": [
    "from sklearn.metrics import f1_score\n",
    "print(f1_score(y_test,y_predictions_rf))\n",
    "print(f1_score(y_test,y_predict_gbc))\n",
    "print(f1_score(y_test,y_predict_svm))"
   ]
  }
 ],
 "metadata": {
  "kernelspec": {
   "display_name": "Python 3 (ipykernel)",
   "language": "python",
   "name": "python3"
  },
  "language_info": {
   "codemirror_mode": {
    "name": "ipython",
    "version": 3
   },
   "file_extension": ".py",
   "mimetype": "text/x-python",
   "name": "python",
   "nbconvert_exporter": "python",
   "pygments_lexer": "ipython3",
   "version": "3.9.12"
  }
 },
 "nbformat": 4,
 "nbformat_minor": 5
}
