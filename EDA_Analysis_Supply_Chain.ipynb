{
 "cells": [
  {
   "cell_type": "code",
   "execution_count": 20,
   "id": "3bdf53bc",
   "metadata": {},
   "outputs": [],
   "source": [
    "import pandas as pd\n",
    "import numpy as np\n",
    "import matplotlib.pyplot as plt\n",
    "import seaborn as sns\n",
    "\n",
    "# Probably gonna have to analyze order profit within this data set I dont think I could find a trend for the delivery status"
   ]
  },
  {
   "cell_type": "code",
   "execution_count": 21,
   "id": "9c0186bf",
   "metadata": {},
   "outputs": [],
   "source": [
    "df = pd.read_csv('Cleaned_Supply_Chain.csv')"
   ]
  },
  {
   "cell_type": "code",
   "execution_count": 22,
   "id": "55a95f4b",
   "metadata": {},
   "outputs": [
    {
     "data": {
      "text/plain": [
       "(180519, 45)"
      ]
     },
     "execution_count": 22,
     "metadata": {},
     "output_type": "execute_result"
    }
   ],
   "source": [
    "df.shape"
   ]
  },
  {
   "cell_type": "code",
   "execution_count": 23,
   "id": "2fd46d6b",
   "metadata": {
    "scrolled": false
   },
   "outputs": [
    {
     "data": {
      "text/html": [
       "<div>\n",
       "<style scoped>\n",
       "    .dataframe tbody tr th:only-of-type {\n",
       "        vertical-align: middle;\n",
       "    }\n",
       "\n",
       "    .dataframe tbody tr th {\n",
       "        vertical-align: top;\n",
       "    }\n",
       "\n",
       "    .dataframe thead th {\n",
       "        text-align: right;\n",
       "    }\n",
       "</style>\n",
       "<table border=\"1\" class=\"dataframe\">\n",
       "  <thead>\n",
       "    <tr style=\"text-align: right;\">\n",
       "      <th></th>\n",
       "      <th>Type</th>\n",
       "      <th>Days for shipping (real)</th>\n",
       "      <th>Days for shipment (scheduled)</th>\n",
       "      <th>Benefit per order</th>\n",
       "      <th>Sales per customer</th>\n",
       "      <th>Delivery Status</th>\n",
       "      <th>Late_delivery_risk</th>\n",
       "      <th>Category Id</th>\n",
       "      <th>Category Name</th>\n",
       "      <th>Customer City</th>\n",
       "      <th>...</th>\n",
       "      <th>Order_Profit</th>\n",
       "      <th>Order Region</th>\n",
       "      <th>Order State</th>\n",
       "      <th>Order Status</th>\n",
       "      <th>Product Category Id</th>\n",
       "      <th>Product_Name</th>\n",
       "      <th>Product Price</th>\n",
       "      <th>Product Status</th>\n",
       "      <th>shipping date (DateOrders)</th>\n",
       "      <th>Shipping Mode</th>\n",
       "    </tr>\n",
       "  </thead>\n",
       "  <tbody>\n",
       "    <tr>\n",
       "      <th>0</th>\n",
       "      <td>DEBIT</td>\n",
       "      <td>3</td>\n",
       "      <td>4</td>\n",
       "      <td>91.250000</td>\n",
       "      <td>314.640015</td>\n",
       "      <td>Advance shipping</td>\n",
       "      <td>0</td>\n",
       "      <td>73</td>\n",
       "      <td>Sporting Goods</td>\n",
       "      <td>Caguas</td>\n",
       "      <td>...</td>\n",
       "      <td>91.250000</td>\n",
       "      <td>Southeast Asia</td>\n",
       "      <td>Java Occidental</td>\n",
       "      <td>COMPLETE</td>\n",
       "      <td>73</td>\n",
       "      <td>Smart watch</td>\n",
       "      <td>327.75</td>\n",
       "      <td>0</td>\n",
       "      <td>2/3/2018 22:56</td>\n",
       "      <td>Standard Class</td>\n",
       "    </tr>\n",
       "    <tr>\n",
       "      <th>1</th>\n",
       "      <td>TRANSFER</td>\n",
       "      <td>5</td>\n",
       "      <td>4</td>\n",
       "      <td>-249.089996</td>\n",
       "      <td>311.359985</td>\n",
       "      <td>Late delivery</td>\n",
       "      <td>1</td>\n",
       "      <td>73</td>\n",
       "      <td>Sporting Goods</td>\n",
       "      <td>Caguas</td>\n",
       "      <td>...</td>\n",
       "      <td>-249.089996</td>\n",
       "      <td>South Asia</td>\n",
       "      <td>Rajastán</td>\n",
       "      <td>PENDING</td>\n",
       "      <td>73</td>\n",
       "      <td>Smart watch</td>\n",
       "      <td>327.75</td>\n",
       "      <td>0</td>\n",
       "      <td>1/18/2018 12:27</td>\n",
       "      <td>Standard Class</td>\n",
       "    </tr>\n",
       "    <tr>\n",
       "      <th>2</th>\n",
       "      <td>CASH</td>\n",
       "      <td>4</td>\n",
       "      <td>4</td>\n",
       "      <td>-247.779999</td>\n",
       "      <td>309.720001</td>\n",
       "      <td>Shipping on time</td>\n",
       "      <td>0</td>\n",
       "      <td>73</td>\n",
       "      <td>Sporting Goods</td>\n",
       "      <td>San Jose</td>\n",
       "      <td>...</td>\n",
       "      <td>-247.779999</td>\n",
       "      <td>South Asia</td>\n",
       "      <td>Rajastán</td>\n",
       "      <td>CLOSED</td>\n",
       "      <td>73</td>\n",
       "      <td>Smart watch</td>\n",
       "      <td>327.75</td>\n",
       "      <td>0</td>\n",
       "      <td>1/17/2018 12:06</td>\n",
       "      <td>Standard Class</td>\n",
       "    </tr>\n",
       "    <tr>\n",
       "      <th>3</th>\n",
       "      <td>DEBIT</td>\n",
       "      <td>3</td>\n",
       "      <td>4</td>\n",
       "      <td>22.860001</td>\n",
       "      <td>304.809998</td>\n",
       "      <td>Advance shipping</td>\n",
       "      <td>0</td>\n",
       "      <td>73</td>\n",
       "      <td>Sporting Goods</td>\n",
       "      <td>Los Angeles</td>\n",
       "      <td>...</td>\n",
       "      <td>22.860001</td>\n",
       "      <td>Oceania</td>\n",
       "      <td>Queensland</td>\n",
       "      <td>COMPLETE</td>\n",
       "      <td>73</td>\n",
       "      <td>Smart watch</td>\n",
       "      <td>327.75</td>\n",
       "      <td>0</td>\n",
       "      <td>1/16/2018 11:45</td>\n",
       "      <td>Standard Class</td>\n",
       "    </tr>\n",
       "    <tr>\n",
       "      <th>4</th>\n",
       "      <td>PAYMENT</td>\n",
       "      <td>2</td>\n",
       "      <td>4</td>\n",
       "      <td>134.210007</td>\n",
       "      <td>298.250000</td>\n",
       "      <td>Advance shipping</td>\n",
       "      <td>0</td>\n",
       "      <td>73</td>\n",
       "      <td>Sporting Goods</td>\n",
       "      <td>Caguas</td>\n",
       "      <td>...</td>\n",
       "      <td>134.210007</td>\n",
       "      <td>Oceania</td>\n",
       "      <td>Queensland</td>\n",
       "      <td>PENDING_PAYMENT</td>\n",
       "      <td>73</td>\n",
       "      <td>Smart watch</td>\n",
       "      <td>327.75</td>\n",
       "      <td>0</td>\n",
       "      <td>1/15/2018 11:24</td>\n",
       "      <td>Standard Class</td>\n",
       "    </tr>\n",
       "  </tbody>\n",
       "</table>\n",
       "<p>5 rows × 45 columns</p>\n",
       "</div>"
      ],
      "text/plain": [
       "       Type  Days for shipping (real)  Days for shipment (scheduled)  \\\n",
       "0     DEBIT                         3                              4   \n",
       "1  TRANSFER                         5                              4   \n",
       "2      CASH                         4                              4   \n",
       "3     DEBIT                         3                              4   \n",
       "4   PAYMENT                         2                              4   \n",
       "\n",
       "   Benefit per order  Sales per customer   Delivery Status  \\\n",
       "0          91.250000          314.640015  Advance shipping   \n",
       "1        -249.089996          311.359985     Late delivery   \n",
       "2        -247.779999          309.720001  Shipping on time   \n",
       "3          22.860001          304.809998  Advance shipping   \n",
       "4         134.210007          298.250000  Advance shipping   \n",
       "\n",
       "   Late_delivery_risk  Category Id   Category Name Customer City  ...  \\\n",
       "0                   0           73  Sporting Goods        Caguas  ...   \n",
       "1                   1           73  Sporting Goods        Caguas  ...   \n",
       "2                   0           73  Sporting Goods      San Jose  ...   \n",
       "3                   0           73  Sporting Goods   Los Angeles  ...   \n",
       "4                   0           73  Sporting Goods        Caguas  ...   \n",
       "\n",
       "  Order_Profit    Order Region      Order State     Order Status  \\\n",
       "0    91.250000  Southeast Asia  Java Occidental         COMPLETE   \n",
       "1  -249.089996      South Asia         Rajastán          PENDING   \n",
       "2  -247.779999      South Asia         Rajastán           CLOSED   \n",
       "3    22.860001         Oceania       Queensland         COMPLETE   \n",
       "4   134.210007         Oceania       Queensland  PENDING_PAYMENT   \n",
       "\n",
       "  Product Category Id  Product_Name  Product Price Product Status  \\\n",
       "0                  73  Smart watch          327.75              0   \n",
       "1                  73  Smart watch          327.75              0   \n",
       "2                  73  Smart watch          327.75              0   \n",
       "3                  73  Smart watch          327.75              0   \n",
       "4                  73  Smart watch          327.75              0   \n",
       "\n",
       "   shipping date (DateOrders)   Shipping Mode  \n",
       "0              2/3/2018 22:56  Standard Class  \n",
       "1             1/18/2018 12:27  Standard Class  \n",
       "2             1/17/2018 12:06  Standard Class  \n",
       "3             1/16/2018 11:45  Standard Class  \n",
       "4             1/15/2018 11:24  Standard Class  \n",
       "\n",
       "[5 rows x 45 columns]"
      ]
     },
     "execution_count": 23,
     "metadata": {},
     "output_type": "execute_result"
    }
   ],
   "source": [
    "df.head()"
   ]
  },
  {
   "cell_type": "code",
   "execution_count": 24,
   "id": "5a403820",
   "metadata": {},
   "outputs": [
    {
     "name": "stdout",
     "output_type": "stream",
     "text": [
      "<class 'pandas.core.frame.DataFrame'>\n",
      "RangeIndex: 180519 entries, 0 to 180518\n",
      "Data columns (total 45 columns):\n",
      " #   Column                         Non-Null Count   Dtype  \n",
      "---  ------                         --------------   -----  \n",
      " 0   Type                           180519 non-null  object \n",
      " 1   Days for shipping (real)       180519 non-null  int64  \n",
      " 2   Days for shipment (scheduled)  180519 non-null  int64  \n",
      " 3   Benefit per order              180519 non-null  float64\n",
      " 4   Sales per customer             180519 non-null  float64\n",
      " 5   Delivery Status                180519 non-null  object \n",
      " 6   Late_delivery_risk             180519 non-null  int64  \n",
      " 7   Category Id                    180519 non-null  int64  \n",
      " 8   Category Name                  180519 non-null  object \n",
      " 9   Customer City                  180519 non-null  object \n",
      " 10  Customer Country               180519 non-null  object \n",
      " 11  Customer Id                    180519 non-null  int64  \n",
      " 12  Customer Segment               180519 non-null  object \n",
      " 13  Customer State                 180519 non-null  object \n",
      " 14  Customer Street                180519 non-null  object \n",
      " 15  Customer Zipcode               180516 non-null  float64\n",
      " 16  Department Id                  180519 non-null  int64  \n",
      " 17  Department Name                180519 non-null  object \n",
      " 18  Latitude                       180519 non-null  float64\n",
      " 19  Longitude                      180519 non-null  float64\n",
      " 20  Market                         180519 non-null  object \n",
      " 21  Order City                     180519 non-null  object \n",
      " 22  Order Country                  180519 non-null  object \n",
      " 23  Order Customer Id              180519 non-null  int64  \n",
      " 24  order date (DateOrders)        180519 non-null  object \n",
      " 25  Order Id                       180519 non-null  int64  \n",
      " 26  Order Item Cardprod Id         180519 non-null  int64  \n",
      " 27  Order Item Discount            180519 non-null  float64\n",
      " 28  Order Item Discount Rate       180519 non-null  float64\n",
      " 29  Order Item Id                  180519 non-null  int64  \n",
      " 30  Order Item Product Price       180519 non-null  float64\n",
      " 31  Order Item Profit Ratio        180519 non-null  float64\n",
      " 32  Order Item Quantity            180519 non-null  int64  \n",
      " 33  Sales                          180519 non-null  float64\n",
      " 34  Order Item Total               180519 non-null  float64\n",
      " 35  Order_Profit                   180519 non-null  float64\n",
      " 36  Order Region                   180519 non-null  object \n",
      " 37  Order State                    180519 non-null  object \n",
      " 38  Order Status                   180519 non-null  object \n",
      " 39  Product Category Id            180519 non-null  int64  \n",
      " 40  Product_Name                   180519 non-null  object \n",
      " 41  Product Price                  180519 non-null  float64\n",
      " 42  Product Status                 180519 non-null  int64  \n",
      " 43  shipping date (DateOrders)     180519 non-null  object \n",
      " 44  Shipping Mode                  180519 non-null  object \n",
      "dtypes: float64(13), int64(13), object(19)\n",
      "memory usage: 62.0+ MB\n"
     ]
    }
   ],
   "source": [
    "df.info()"
   ]
  },
  {
   "cell_type": "code",
   "execution_count": 85,
   "id": "da3948ce",
   "metadata": {},
   "outputs": [],
   "source": []
  },
  {
   "cell_type": "code",
   "execution_count": 25,
   "id": "24eba953",
   "metadata": {},
   "outputs": [
    {
     "data": {
      "image/png": "[encoded data removed]",
      "text/plain": [
       "<Figure size 432x288 with 1 Axes>"
      ]
     },
     "metadata": {
      "needs_background": "light"
     },
     "output_type": "display_data"
    }
   ],
   "source": [
    "ax = plt.hist(df['Delivery Status'])\n",
    "_ = plt.title('Delivery Status')\n",
    "_ = plt.xlabel('Shipping Status')\n",
    "_ = plt.ylabel('Quantity of Shipments')"
   ]
  },
  {
   "cell_type": "code",
   "execution_count": 26,
   "id": "5a50f6d6",
   "metadata": {},
   "outputs": [
    {
     "data": {
      "image/png": "[encoded data removed]",
      "text/plain": [
       "<Figure size 432x288 with 1 Axes>"
      ]
     },
     "metadata": {
      "needs_background": "light"
     },
     "output_type": "display_data"
    }
   ],
   "source": [
    "ax = plt.hist(df['Late_delivery_risk'])\n",
    "_ = plt.title('Late Delivery Risk')\n",
    "_ = plt.xlabel('Risk of late delivery')\n",
    "_ = plt.ylabel('Quantity of Shipments')"
   ]
  },
  {
   "cell_type": "code",
   "execution_count": 27,
   "id": "ec5e9321",
   "metadata": {},
   "outputs": [
    {
     "data": {
      "image/png": "[encoded data removed]",
      "text/plain": [
       "<Figure size 432x288 with 1 Axes>"
      ]
     },
     "metadata": {
      "needs_background": "light"
     },
     "output_type": "display_data"
    }
   ],
   "source": [
    "# Analyzing Shipping Mode with Delivery status\n",
    "\n",
    "same_day = df[df['Shipping Mode'] == 'Same Day']\n",
    "standard_class = df[df['Shipping Mode'] == 'Standard Class']\n",
    "second_class = df[df['Shipping Mode'] == 'Second Class']\n",
    "first_class = df[df['Shipping Mode'] == 'First Class']\n",
    "\n",
    "same_day_result = same_day['Delivery Status']\n",
    "standard_class_result = standard_class['Delivery Status']\n",
    "second_class_result = second_class['Delivery Status']\n",
    "first_class_result = first_class['Delivery Status']\n",
    "\n",
    "_ = plt.hist([same_day_result, standard_class_result, second_class_result,first_class_result],\n",
    "            color = ['red','blue','green','yellow'])\n",
    "_ = plt.legend(['Same Day','Standard Class','Second Class','First Class'])\n",
    "_ = plt.xlabel('Delivery Status')\n",
    "_ = plt.ylabel('Number of Shipments')\n",
    "_ = plt.title('Comparison of shipping statuses vs type of shipping')\n",
    "\n",
    "\n",
    "# Every first class shipment was delayed or cancelled. No shipping type but standard had advance shipping"
   ]
  },
  {
   "cell_type": "code",
   "execution_count": 23,
   "id": "2c9da521",
   "metadata": {},
   "outputs": [],
   "source": [
    "# Did certain kinds of chipments have increased average delays removing canceled shipments\n",
    "#df.head()\n",
    "#df2 = df[df['Delivery Status'] != 'First Class']\n"
   ]
  },
  {
   "cell_type": "code",
   "execution_count": 28,
   "id": "e8823beb",
   "metadata": {},
   "outputs": [
    {
     "name": "stdout",
     "output_type": "stream",
     "text": [
      "Avg delay for same day delivery:  0.4782787306151792\n",
      "Avg delay for standard delivery:  -0.004092731457420744\n",
      "Avg delay for second class delivery:  1.9908280327124035\n",
      "Avg delay for first class delivery:  1.0\n"
     ]
    }
   ],
   "source": [
    "df['Delivery Difference'] =  df['Days for shipping (real)'] - df['Days for shipment (scheduled)']\n",
    "\n",
    "# No delays\n",
    "#df3 = df2[df2['Delivery Difference'] != 0]\n",
    "\n",
    "same_day_delay = df[df['Shipping Mode'] == 'Same Day']\n",
    "standard_delay = df[df['Shipping Mode'] == 'Standard Class']\n",
    "second_delay = df[df['Shipping Mode'] == 'Second Class']\n",
    "first_delay = df[df['Shipping Mode'] == 'First Class']\n",
    "\n",
    "same_day_delay_difference_mean = np.mean(same_day_delay['Delivery Difference'])\n",
    "standard_delay_difference_mean = np.mean(standard_delay['Delivery Difference'])\n",
    "second_delay_difference_mean = np.mean(second_delay['Delivery Difference'])\n",
    "first_delay_difference_mean = np.mean(first_delay['Delivery Difference'])\n",
    "\n",
    "print('Avg delay for same day delivery: ' , same_day_delay_difference_mean)\n",
    "print('Avg delay for standard delivery: ' , standard_delay_difference_mean)\n",
    "print('Avg delay for second class delivery: ' , second_delay_difference_mean)\n",
    "print('Avg delay for first class delivery: ' , first_delay_difference_mean)"
   ]
  },
  {
   "cell_type": "code",
   "execution_count": 29,
   "id": "da0f4b18",
   "metadata": {},
   "outputs": [],
   "source": [
    "df2 = df.rename(index=str, columns={\"Product Name\":\"Product_Name\", \"Order Profit Per Order\":\"Order_Profit\"})\n",
    "df2.head()\n",
    "df3 = df2.groupby(df2.Product_Name).mean().reset_index()\n",
    "\n",
    "df4 = df3.sort_values('Delivery Difference', ascending = False)"
   ]
  },
  {
   "cell_type": "code",
   "execution_count": 30,
   "id": "da9a766a",
   "metadata": {
    "scrolled": true
   },
   "outputs": [
    {
     "data": {
      "text/html": [
       "<div>\n",
       "<style scoped>\n",
       "    .dataframe tbody tr th:only-of-type {\n",
       "        vertical-align: middle;\n",
       "    }\n",
       "\n",
       "    .dataframe tbody tr th {\n",
       "        vertical-align: top;\n",
       "    }\n",
       "\n",
       "    .dataframe thead th {\n",
       "        text-align: right;\n",
       "    }\n",
       "</style>\n",
       "<table border=\"1\" class=\"dataframe\">\n",
       "  <thead>\n",
       "    <tr style=\"text-align: right;\">\n",
       "      <th></th>\n",
       "      <th>Product_Name</th>\n",
       "      <th>Days for shipping (real)</th>\n",
       "      <th>Days for shipment (scheduled)</th>\n",
       "      <th>Benefit per order</th>\n",
       "      <th>Sales per customer</th>\n",
       "      <th>Late_delivery_risk</th>\n",
       "      <th>Category Id</th>\n",
       "      <th>Customer Id</th>\n",
       "      <th>Customer Zipcode</th>\n",
       "      <th>Department Id</th>\n",
       "      <th>...</th>\n",
       "      <th>Order Item Product Price</th>\n",
       "      <th>Order Item Profit Ratio</th>\n",
       "      <th>Order Item Quantity</th>\n",
       "      <th>Sales</th>\n",
       "      <th>Order Item Total</th>\n",
       "      <th>Order_Profit</th>\n",
       "      <th>Product Category Id</th>\n",
       "      <th>Product Price</th>\n",
       "      <th>Product Status</th>\n",
       "      <th>Delivery Difference</th>\n",
       "    </tr>\n",
       "  </thead>\n",
       "  <tbody>\n",
       "    <tr>\n",
       "      <th>76</th>\n",
       "      <td>SOLE E25 Elliptical</td>\n",
       "      <td>4.000000</td>\n",
       "      <td>3.000000</td>\n",
       "      <td>-16.956000</td>\n",
       "      <td>941.489990</td>\n",
       "      <td>0.700000</td>\n",
       "      <td>4.0</td>\n",
       "      <td>4835.700000</td>\n",
       "      <td>44997.700000</td>\n",
       "      <td>2.0</td>\n",
       "      <td>...</td>\n",
       "      <td>999.989990</td>\n",
       "      <td>-0.036000</td>\n",
       "      <td>1.0</td>\n",
       "      <td>999.989990</td>\n",
       "      <td>941.489990</td>\n",
       "      <td>-16.956000</td>\n",
       "      <td>4.0</td>\n",
       "      <td>999.989990</td>\n",
       "      <td>0.0</td>\n",
       "      <td>1.000000</td>\n",
       "    </tr>\n",
       "    <tr>\n",
       "      <th>60</th>\n",
       "      <td>Nike Men's Fingertrap Max Training Shoe</td>\n",
       "      <td>3.890625</td>\n",
       "      <td>2.937500</td>\n",
       "      <td>9.412187</td>\n",
       "      <td>113.388748</td>\n",
       "      <td>0.593750</td>\n",
       "      <td>2.0</td>\n",
       "      <td>5693.218750</td>\n",
       "      <td>41415.468750</td>\n",
       "      <td>2.0</td>\n",
       "      <td>...</td>\n",
       "      <td>124.989998</td>\n",
       "      <td>0.091563</td>\n",
       "      <td>1.0</td>\n",
       "      <td>124.989998</td>\n",
       "      <td>113.388748</td>\n",
       "      <td>9.412187</td>\n",
       "      <td>2.0</td>\n",
       "      <td>124.989998</td>\n",
       "      <td>0.0</td>\n",
       "      <td>0.953125</td>\n",
       "    </tr>\n",
       "    <tr>\n",
       "      <th>93</th>\n",
       "      <td>Titleist Club Glove Travel Cover</td>\n",
       "      <td>3.794118</td>\n",
       "      <td>2.882353</td>\n",
       "      <td>38.596176</td>\n",
       "      <td>268.181173</td>\n",
       "      <td>0.617647</td>\n",
       "      <td>35.0</td>\n",
       "      <td>6320.058824</td>\n",
       "      <td>34188.852941</td>\n",
       "      <td>6.0</td>\n",
       "      <td>...</td>\n",
       "      <td>299.989990</td>\n",
       "      <td>0.140000</td>\n",
       "      <td>1.0</td>\n",
       "      <td>299.989990</td>\n",
       "      <td>268.181173</td>\n",
       "      <td>38.596176</td>\n",
       "      <td>35.0</td>\n",
       "      <td>299.989990</td>\n",
       "      <td>0.0</td>\n",
       "      <td>0.911765</td>\n",
       "    </tr>\n",
       "    <tr>\n",
       "      <th>29</th>\n",
       "      <td>Garmin Approach S4 Golf GPS Watch</td>\n",
       "      <td>3.805556</td>\n",
       "      <td>2.916667</td>\n",
       "      <td>33.580556</td>\n",
       "      <td>272.531661</td>\n",
       "      <td>0.527778</td>\n",
       "      <td>38.0</td>\n",
       "      <td>6160.083333</td>\n",
       "      <td>39937.055556</td>\n",
       "      <td>6.0</td>\n",
       "      <td>...</td>\n",
       "      <td>299.989990</td>\n",
       "      <td>0.118889</td>\n",
       "      <td>1.0</td>\n",
       "      <td>299.989990</td>\n",
       "      <td>272.531661</td>\n",
       "      <td>33.580556</td>\n",
       "      <td>38.0</td>\n",
       "      <td>299.989990</td>\n",
       "      <td>0.0</td>\n",
       "      <td>0.888889</td>\n",
       "    </tr>\n",
       "    <tr>\n",
       "      <th>111</th>\n",
       "      <td>Yakima DoubleDown Ace Hitch Mount 4-Bike Rack</td>\n",
       "      <td>3.796875</td>\n",
       "      <td>2.984375</td>\n",
       "      <td>16.434375</td>\n",
       "      <td>168.786094</td>\n",
       "      <td>0.578125</td>\n",
       "      <td>10.0</td>\n",
       "      <td>5940.109375</td>\n",
       "      <td>46704.656250</td>\n",
       "      <td>3.0</td>\n",
       "      <td>...</td>\n",
       "      <td>189.000000</td>\n",
       "      <td>0.102656</td>\n",
       "      <td>1.0</td>\n",
       "      <td>189.000000</td>\n",
       "      <td>168.786094</td>\n",
       "      <td>16.434375</td>\n",
       "      <td>10.0</td>\n",
       "      <td>189.000000</td>\n",
       "      <td>0.0</td>\n",
       "      <td>0.812500</td>\n",
       "    </tr>\n",
       "  </tbody>\n",
       "</table>\n",
       "<p>5 rows × 28 columns</p>\n",
       "</div>"
      ],
      "text/plain": [
       "                                      Product_Name  Days for shipping (real)  \\\n",
       "76                             SOLE E25 Elliptical                  4.000000   \n",
       "60         Nike Men's Fingertrap Max Training Shoe                  3.890625   \n",
       "93                Titleist Club Glove Travel Cover                  3.794118   \n",
       "29               Garmin Approach S4 Golf GPS Watch                  3.805556   \n",
       "111  Yakima DoubleDown Ace Hitch Mount 4-Bike Rack                  3.796875   \n",
       "\n",
       "     Days for shipment (scheduled)  Benefit per order  Sales per customer  \\\n",
       "76                        3.000000         -16.956000          941.489990   \n",
       "60                        2.937500           9.412187          113.388748   \n",
       "93                        2.882353          38.596176          268.181173   \n",
       "29                        2.916667          33.580556          272.531661   \n",
       "111                       2.984375          16.434375          168.786094   \n",
       "\n",
       "     Late_delivery_risk  Category Id  Customer Id  Customer Zipcode  \\\n",
       "76             0.700000          4.0  4835.700000      44997.700000   \n",
       "60             0.593750          2.0  5693.218750      41415.468750   \n",
       "93             0.617647         35.0  6320.058824      34188.852941   \n",
       "29             0.527778         38.0  6160.083333      39937.055556   \n",
       "111            0.578125         10.0  5940.109375      46704.656250   \n",
       "\n",
       "     Department Id  ...  Order Item Product Price  Order Item Profit Ratio  \\\n",
       "76             2.0  ...                999.989990                -0.036000   \n",
       "60             2.0  ...                124.989998                 0.091563   \n",
       "93             6.0  ...                299.989990                 0.140000   \n",
       "29             6.0  ...                299.989990                 0.118889   \n",
       "111            3.0  ...                189.000000                 0.102656   \n",
       "\n",
       "     Order Item Quantity       Sales  Order Item Total  Order_Profit  \\\n",
       "76                   1.0  999.989990        941.489990    -16.956000   \n",
       "60                   1.0  124.989998        113.388748      9.412187   \n",
       "93                   1.0  299.989990        268.181173     38.596176   \n",
       "29                   1.0  299.989990        272.531661     33.580556   \n",
       "111                  1.0  189.000000        168.786094     16.434375   \n",
       "\n",
       "     Product Category Id  Product Price  Product Status  Delivery Difference  \n",
       "76                   4.0     999.989990             0.0             1.000000  \n",
       "60                   2.0     124.989998             0.0             0.953125  \n",
       "93                  35.0     299.989990             0.0             0.911765  \n",
       "29                  38.0     299.989990             0.0             0.888889  \n",
       "111                 10.0     189.000000             0.0             0.812500  \n",
       "\n",
       "[5 rows x 28 columns]"
      ]
     },
     "execution_count": 30,
     "metadata": {},
     "output_type": "execute_result"
    }
   ],
   "source": [
    "df4.head()\n"
   ]
  },
  {
   "cell_type": "code",
   "execution_count": 31,
   "id": "31cc8690",
   "metadata": {},
   "outputs": [
    {
     "data": {
      "text/plain": [
       "Product_Name                     SOLE E25 Elliptical\n",
       "Days for shipping (real)                         4.0\n",
       "Days for shipment (scheduled)                    3.0\n",
       "Benefit per order                            -16.956\n",
       "Sales per customer                         941.48999\n",
       "Late_delivery_risk                               0.7\n",
       "Category Id                                      4.0\n",
       "Customer Id                                   4835.7\n",
       "Customer Zipcode                             44997.7\n",
       "Department Id                                    2.0\n",
       "Latitude                                   25.908821\n",
       "Longitude                                  -92.90909\n",
       "Order Customer Id                             4835.7\n",
       "Order Id                                     68812.7\n",
       "Order Item Cardprod Id                          60.0\n",
       "Order Item Discount                             58.5\n",
       "Order Item Discount Rate                       0.059\n",
       "Order Item Id                               172037.5\n",
       "Order Item Product Price                   999.98999\n",
       "Order Item Profit Ratio                       -0.036\n",
       "Order Item Quantity                              1.0\n",
       "Sales                                      999.98999\n",
       "Order Item Total                           941.48999\n",
       "Order_Profit                                 -16.956\n",
       "Product Category Id                              4.0\n",
       "Product Price                              999.98999\n",
       "Product Status                                   0.0\n",
       "Delivery Difference                              1.0\n",
       "Name: 76, dtype: object"
      ]
     },
     "execution_count": 31,
     "metadata": {},
     "output_type": "execute_result"
    }
   ],
   "source": [
    "#_ = plt.plot(df4['Order_Profit'], df4['Delivery Difference'])\n",
    "df4.iloc[0,:]\n",
    "# How many SOLE E25's were sold\n",
    "\n",
    "# Correlation\n",
    "#col = ['Benefit per order','Order Item Total','Late_delivery_risk','Order_Profit','Delivery Difference','Order Item Discount']\n",
    "#df4_feat = df4[col]"
   ]
  },
  {
   "cell_type": "code",
   "execution_count": 17,
   "id": "de29df8d",
   "metadata": {},
   "outputs": [],
   "source": [
    "col = ['Benefit per order','Order Item Total','Late_delivery_risk','Order_Profit','Delivery Difference','Order Item Discount']\n",
    "df4_feat = df4[col]"
   ]
  },
  {
   "cell_type": "code",
   "execution_count": 18,
   "id": "59a99350",
   "metadata": {},
   "outputs": [
    {
     "data": {
      "image/png": "[encoded data removed]",
      "text/plain": [
       "<Figure size 1080x720 with 2 Axes>"
      ]
     },
     "metadata": {
      "needs_background": "light"
     },
     "output_type": "display_data"
    }
   ],
   "source": [
    "corr = df4_feat.corr()\n",
    "f, ax = plt.subplots(figsize=(15, 10))\n",
    "hm = sns.heatmap(round(corr,2), annot=True, ax=ax, cmap=\"coolwarm\",fmt='.2f',\n",
    "                 linewidths=.1)\n",
    "#f.subplots_adjust(top=0.93)\n",
    "t= f.suptitle('Feature Correlation for Delivery', fontsize=14)"
   ]
  },
  {
   "cell_type": "code",
   "execution_count": null,
   "id": "eba88d59",
   "metadata": {},
   "outputs": [],
   "source": [
    "\n"
   ]
  },
  {
   "cell_type": "code",
   "execution_count": 32,
   "id": "d2cb177d",
   "metadata": {},
   "outputs": [],
   "source": [
    "#plt.plot(df5['Product_Name'], df5['Days for shipping (real)'])\n",
    "\n",
    "# What items / categories would be most at risk for late delivery\n",
    "# Zipcodes\n"
   ]
  },
  {
   "cell_type": "code",
   "execution_count": 33,
   "id": "f747c0ed",
   "metadata": {},
   "outputs": [],
   "source": [
    "target = df2['Late_delivery_risk']"
   ]
  },
  {
   "cell_type": "code",
   "execution_count": 37,
   "id": "dcbdbb76",
   "metadata": {},
   "outputs": [],
   "source": [
    "features=df2[['Type', 'Benefit per order', 'Sales per customer', 'Delivery Status', 'Late_delivery_risk', \n",
    "                    'Category Name', 'Customer City', 'Customer Country', 'Customer Id', 'Customer Segment', \n",
    "                    'Customer State', 'Customer Zipcode', 'Department Name', 'Latitude', 'Longitude', 'Market', \n",
    "                    'Order City', 'Order Country', 'order date (DateOrders)', 'Order Id', 'Order Item Cardprod Id',\n",
    "                    'Order Item Discount', 'Order Item Discount Rate', 'Order Item Product Price', 'Order Item Quantity',\n",
    "                    'Order Region', 'Order State', 'Product Status', 'Shipping Mode']]\n",
    "features = features.drop(columns = ['Late_delivery_risk'])"
   ]
  }
 ],
 "metadata": {
  "kernelspec": {
   "display_name": "Python 3 (ipykernel)",
   "language": "python",
   "name": "python3"
  },
  "language_info": {
   "codemirror_mode": {
    "name": "ipython",
    "version": 3
   },
   "file_extension": ".py",
   "mimetype": "text/x-python",
   "name": "python",
   "nbconvert_exporter": "python",
   "pygments_lexer": "ipython3",
   "version": "3.9.12"
  }
 },
 "nbformat": 4,
 "nbformat_minor": 5
}
