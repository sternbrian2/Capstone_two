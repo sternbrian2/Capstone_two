{
 "cells": [
  {
   "cell_type": "code",
   "execution_count": 18,
   "id": "5cc1f09c",
   "metadata": {},
   "outputs": [],
   "source": [
    "import pandas as pd\n",
    "import numpy as np\n",
    "import matplotlib.pyplot as plt\n",
    "import seaborn as sns"
   ]
  },
  {
   "cell_type": "code",
   "execution_count": 19,
   "id": "fa1a5a7b",
   "metadata": {},
   "outputs": [],
   "source": [
    "df = pd.read_csv('Final_Supply_Chain.csv')"
   ]
  },
  {
   "cell_type": "code",
   "execution_count": 20,
   "id": "48d3bbc6",
   "metadata": {},
   "outputs": [],
   "source": [
    "features=df[['Type', 'Benefit per order', 'Sales per customer', 'Delivery Status', 'Late_delivery_risk', \n",
    "                    'Category Name', 'Customer City', 'Customer Country', 'Customer Id', 'Customer Segment', \n",
    "                    'Customer State', 'Customer Zipcode', 'Department Name', 'Latitude', 'Longitude', 'Market', \n",
    "                    'Order City', 'Order Country', 'order date (DateOrders)', 'Order Id', 'Order Item Cardprod Id',\n",
    "                    'Order Item Discount', 'Order Item Discount Rate', 'Order Item Product Price', 'Order Item Quantity',\n",
    "                    'Order Region', 'Order State', 'Product Status', 'Shipping Mode']]\n",
    "features = features.drop(columns = ['Late_delivery_risk','Type'])\n"
   ]
  },
  {
   "cell_type": "code",
   "execution_count": 21,
   "id": "1c46b946",
   "metadata": {},
   "outputs": [
    {
     "data": {
      "text/plain": [
       "Benefit per order           0\n",
       "Sales per customer          0\n",
       "Delivery Status             0\n",
       "Category Name               0\n",
       "Customer City               0\n",
       "Customer Country            0\n",
       "Customer Id                 0\n",
       "Customer Segment            0\n",
       "Customer State              0\n",
       "Customer Zipcode            3\n",
       "Department Name             0\n",
       "Latitude                    0\n",
       "Longitude                   0\n",
       "Market                      0\n",
       "Order City                  0\n",
       "Order Country               0\n",
       "order date (DateOrders)     0\n",
       "Order Id                    0\n",
       "Order Item Cardprod Id      0\n",
       "Order Item Discount         0\n",
       "Order Item Discount Rate    0\n",
       "Order Item Product Price    0\n",
       "Order Item Quantity         0\n",
       "Order Region                0\n",
       "Order State                 0\n",
       "Product Status              0\n",
       "Shipping Mode               0\n",
       "dtype: int64"
      ]
     },
     "execution_count": 21,
     "metadata": {},
     "output_type": "execute_result"
    }
   ],
   "source": [
    "features.isnull().sum()"
   ]
  },
  {
   "cell_type": "code",
   "execution_count": 22,
   "id": "f9a42363",
   "metadata": {},
   "outputs": [],
   "source": [
    "from sklearn.preprocessing import LabelEncoder\n",
    "le=LabelEncoder()\n",
    "def Labelencoder_feature(x):\n",
    "    le=LabelEncoder()\n",
    "    x=le.fit_transform(x)\n",
    "    return x"
   ]
  },
  {
   "cell_type": "code",
   "execution_count": 23,
   "id": "36fdc8dd",
   "metadata": {},
   "outputs": [],
   "source": [
    "target = df['Late_delivery_risk']\n",
    "features=features.apply(Labelencoder_feature)\n",
    "features.head()\n",
    "\n",
    "final_features=features[['Order Region', 'Delivery Status', \n",
    "       'Customer Country', 'Order State', 'Order City',\n",
    "       'Customer Segment', 'Customer State', 'Customer Zipcode',\n",
    "       'Order Country', 'Shipping Mode']]"
   ]
  },
  {
   "cell_type": "code",
   "execution_count": 10,
   "id": "ae8d4696",
   "metadata": {},
   "outputs": [],
   "source": []
  },
  {
   "cell_type": "code",
   "execution_count": 24,
   "id": "9bcece1b",
   "metadata": {},
   "outputs": [],
   "source": [
    "from sklearn.pipeline import make_pipeline\n",
    "from sklearn.pipeline import Pipeline\n",
    "from sklearn.preprocessing import StandardScaler\n",
    "\n",
    "scaler = StandardScaler()\n",
    "scaled_df = scaler.fit_transform(final_features)\n",
    "scaled_df = pd.DataFrame(scaled_df) \n",
    "\n"
   ]
  },
  {
   "cell_type": "code",
   "execution_count": 25,
   "id": "21d92a5c",
   "metadata": {},
   "outputs": [],
   "source": [
    "from sklearn.model_selection import train_test_split\n",
    "X_train, X_test, y_train, y_test = train_test_split(scaled_df, target, test_size = 0.2, random_state = 42)"
   ]
  }
 ],
 "metadata": {
  "kernelspec": {
   "display_name": "Python 3 (ipykernel)",
   "language": "python",
   "name": "python3"
  },
  "language_info": {
   "codemirror_mode": {
    "name": "ipython",
    "version": 3
   },
   "file_extension": ".py",
   "mimetype": "text/x-python",
   "name": "python",
   "nbconvert_exporter": "python",
   "pygments_lexer": "ipython3",
   "version": "3.9.12"
  }
 },
 "nbformat": 4,
 "nbformat_minor": 5
}
